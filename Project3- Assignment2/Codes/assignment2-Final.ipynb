{
 "cells": [
  {
   "cell_type": "code",
   "execution_count": 23,
   "metadata": {},
   "outputs": [],
   "source": [
    "from math import *\n",
    "import random\n",
    "import pickle\n",
    "import numpy as np\n",
    "\n",
    "class GameState:\n",
    "    \"\"\" A state of the game, i.e. the game board. These are the only functions which are\n",
    "        absolutely necessary to implement UCT in any 2-player complete information deterministic \n",
    "        zero-sum game, although they can be enhanced and made quicker, for example by using a \n",
    "        GetRandomMove() function to generate a random move during rollout.\n",
    "        By convention the players are numbered 1 and 2.\n",
    "    \"\"\"\n",
    "    def __init__(self):\n",
    "            self.playerJustMoved = 2 # At the root pretend the player just moved is player 2 - player 1 has the first move\n",
    "        \n",
    "    def Clone(self):\n",
    "        \"\"\" Create a deep clone of this game state.\n",
    "        \"\"\"\n",
    "        st = GameState()\n",
    "        st.playerJustMoved = self.playerJustMoved\n",
    "        return st\n",
    "\n",
    "    def DoMove(self, move):\n",
    "        \"\"\" Update a state by carrying out the given move.\n",
    "            Must update playerJustMoved.\n",
    "        \"\"\"\n",
    "        self.playerJustMoved = 3 - self.playerJustMoved\n",
    "        \n",
    "    def GetMoves(self):\n",
    "        \"\"\" Get all possible moves from this state.\n",
    "        \"\"\"\n",
    "    \n",
    "    def GetResult(self, playerjm):\n",
    "        \"\"\" Get the game result from the viewpoint of playerjm. \n",
    "        \"\"\"\n",
    "\n",
    "    def __repr__(self):\n",
    "        \"\"\" Don't need this - but good style.\n",
    "        \"\"\"\n",
    "        pass\n"
   ]
  },
  {
   "cell_type": "code",
   "execution_count": 24,
   "metadata": {},
   "outputs": [],
   "source": [
    "class OXOState:\n",
    "    \"\"\" A state of the game, i.e. the game board.\n",
    "        Squares in the board are in this arrangement\n",
    "        012\n",
    "        345\n",
    "        678\n",
    "        where 0 = empty, 1 = player 1 (X), 2 = player 2 (O)\n",
    "    \"\"\"\n",
    "    def __init__(self):\n",
    "        self.playerJustMoved = 2 # At the root pretend the player just moved is p2 - p1 has the first move\n",
    "        self.board = [0,0,0,0,0,0,0,0,0] # 0 = empty, 1 = player 1, 2 = player 2\n",
    "        \n",
    "    def Clone(self):\n",
    "        \"\"\" Create a deep clone of this game state.\n",
    "        \"\"\"\n",
    "        st = OXOState()\n",
    "        st.playerJustMoved = self.playerJustMoved\n",
    "        st.board = self.board[:]\n",
    "        return st\n",
    "\n",
    "    def DoMove(self, move):\n",
    "        \"\"\" Update a state by carrying out the given move.\n",
    "            Must update playerToMove.\n",
    "        \"\"\"\n",
    "        assert move >= 0 and move <= 8 and move == int(move) and self.board[move] == 0\n",
    "        self.playerJustMoved = 3 - self.playerJustMoved\n",
    "        self.board[move] = self.playerJustMoved\n",
    "        \n",
    "    def GetMoves(self):\n",
    "        \"\"\" Get all possible moves from this state.\n",
    "        \"\"\"\n",
    "        return [i for i in range(9) if self.board[i] == 0]\n",
    "    \n",
    "    def GetResult(self, playerjm):\n",
    "        \"\"\" Get the game result from the viewpoint of playerjm. \n",
    "        \"\"\"\n",
    "        for (x,y,z) in [(0,1,2),(3,4,5),(6,7,8),(0,3,6),(1,4,7),(2,5,8),(0,4,8),(2,4,6)]:\n",
    "            if self.board[x] == self.board[y] == self.board[z]:\n",
    "                if self.board[x] == playerjm:\n",
    "                    return 1.0\n",
    "                else:\n",
    "                    return 0.0\n",
    "        if self.GetMoves() == []: return 0.5 # draw\n",
    "        return False # Should not be possible to get here\n",
    "\n",
    "    def __repr__(self):\n",
    "        s= \"\"\n",
    "        for i in range(9): \n",
    "            s += \".XO\"[self.board[i]]\n",
    "            if i % 3 == 2: s += \"\\n\"\n",
    "        return s\n"
   ]
  },
  {
   "cell_type": "code",
   "execution_count": null,
   "metadata": {},
   "outputs": [],
   "source": []
  },
  {
   "cell_type": "code",
   "execution_count": 34,
   "metadata": {},
   "outputs": [
    {
     "name": "stdout",
     "output_type": "stream",
     "text": [
      "12 1 87\n"
     ]
    }
   ],
   "source": [
    "class Node:\n",
    "    \"\"\" A node in the game tree. Note wins is always from the viewpoint of playerJustMoved.\n",
    "        Crashes if state not specified.\n",
    "    \"\"\"\n",
    "    def __init__(self, move = None, parent = None, state = None):\n",
    "        self.move = move # the move that got us to this node - \"None\" for the root node\n",
    "        self.parentNode = parent # \"None\" for the root node\n",
    "        self.childNodes = []\n",
    "        self.wins = 0\n",
    "        self.visits = 0\n",
    "        self.untriedMoves = state.GetMoves() # future child nodes\n",
    "        self.playerJustMoved = state.playerJustMoved # the only part of the state that the Node needs later\n",
    "        \n",
    "    def UCTSelectChild(self):\n",
    "        \"\"\" Use the UCB1 formula to select a child node. Often a constant UCTK is applied so we have\n",
    "            lambda c: c.wins/c.visits + UCTK * sqrt(2*log(self.visits)/c.visits to vary the amount of\n",
    "            exploration versus exploitation.\n",
    "        \"\"\"\n",
    "        s = sorted(self.childNodes, key = lambda c: c.wins/c.visits + sqrt(2*log(self.visits)/c.visits))[-1]\n",
    "        return s\n",
    "    \n",
    "    def AddChild(self, m, s):\n",
    "        \"\"\" Remove m from untriedMoves and add a new child node for this move.\n",
    "            Return the added child node\n",
    "        \"\"\"\n",
    "        n = Node(move = m, parent = self, state = s)\n",
    "        self.untriedMoves.remove(m)\n",
    "        self.childNodes.append(n)\n",
    "        return n\n",
    "    \n",
    "    def Update(self, result):\n",
    "        \"\"\" Update this node - one additional visit and result additional wins. result must be from the viewpoint of playerJustmoved.\n",
    "        \"\"\"\n",
    "        self.visits += 1\n",
    "        self.wins += result\n",
    "\n",
    "    def __repr__(self):\n",
    "        return \"[M:\" + str(self.move) + \" W/V:\" + str(self.wins) + \"/\" + str(self.visits) + \" U:\" + str(self.untriedMoves) + \"]\"\n",
    "\n",
    "    def TreeToString(self, indent):\n",
    "        s = self.IndentString(indent) + str(self)\n",
    "        for c in self.childNodes:\n",
    "             s += c.TreeToString(indent+1)\n",
    "        return s\n",
    "\n",
    "    def IndentString(self,indent):\n",
    "        s = \"\\n\"\n",
    "        for i in range (1,indent+1):\n",
    "            s += \"| \"\n",
    "        return s\n",
    "\n",
    "    def ChildrenToString(self):\n",
    "        s = \"\"\n",
    "        for c in self.childNodes:\n",
    "             s += str(c) + \"\\n\"\n",
    "        return s\n",
    "\n",
    "def UCT1(rootstate, itermax, verbose = False):\n",
    "    \"\"\" Conduct a UCT search for itermax iterations starting from rootstate.\n",
    "        Return the best move from the rootstate.\n",
    "        Assumes 2 alternating players (player 1 starts), with game results in the range [0.0, 1.0].\"\"\"\n",
    "\n",
    "    rootnode = Node(state = rootstate)\n",
    "\n",
    "    for i in range(itermax):\n",
    "        node = rootnode\n",
    "        state = rootstate.Clone()\n",
    "\n",
    "        # Select\n",
    "        while node.untriedMoves == [] and node.childNodes != []: # node is fully expanded and non-terminal\n",
    "            node = node.UCTSelectChild()\n",
    "            state.DoMove(node.move)\n",
    "\n",
    "        # Expand\n",
    "        if node.untriedMoves != []:  # if we can expand (i.e. state/node is non-terminal)\n",
    "            m = random.choice(node.untriedMoves) \n",
    "            state.DoMove(m)\n",
    "            node = node.AddChild(m, state)  # add child and descend tree\n",
    "\n",
    "        # Rollout - this can often be made orders of magnitude quicker using a state.GetRandomMove() function\n",
    "        while state.GetMoves() != []: # while state is non-terminal\n",
    "            #state.DoMove(random.choice(state.GetMoves()))            \n",
    "            model_dt = pickle.load(open(\"dt11.pickle\",\"rb\"))\n",
    "            np_array=np.asarray(state.board)\n",
    "            move=model_dt.predict(np_array.reshape(1,-1))\n",
    "            #print(move)\n",
    "            if move[0] in state.GetMoves():\n",
    "                state.DoMove(move[0])\n",
    "            else:\n",
    "                state.DoMove(random.choice(state.GetMoves()))\n",
    "            \n",
    "\n",
    "        # Backpropagate\n",
    "        while node != None: # backpropagate from the expanded node and work back to the root node\n",
    "            node.Update(state.GetResult(node.playerJustMoved)) # state is terminal. Update node with result from POV of node.playerJustMoved\n",
    "            node = node.parentNode\n",
    "\n",
    "    # Output some information about the tree - can be omitted\n",
    "    #if verbose: print(rootnode.TreeToString(0))\n",
    "    #else: print(rootnode.ChildrenToString())\n",
    "\n",
    "    return sorted(rootnode.childNodes, key = lambda c: c.visits)[-1].move # return the move that was most visited\n",
    "\n",
    "#___________________-------__________________________________________________________________________________________\n",
    "\n",
    "def UCT2(rootstate, itermax, verbose = False):\n",
    "    \"\"\" Conduct a UCT search for itermax iterations starting from rootstate.\n",
    "        Return the best move from the rootstate.\n",
    "        Assumes 2 alternating players (player 1 starts), with game results in the range [0.0, 1.0].\"\"\"\n",
    "\n",
    "    rootnode = Node(state = rootstate)\n",
    "\n",
    "    for i in range(itermax):\n",
    "        node = rootnode\n",
    "        state = rootstate.Clone()\n",
    "\n",
    "        # Select\n",
    "        while node.untriedMoves == [] and node.childNodes != []: # node is fully expanded and non-terminal\n",
    "            node = node.UCTSelectChild()\n",
    "            state.DoMove(node.move)\n",
    "\n",
    "        # Expand\n",
    "        if node.untriedMoves != []:  # if we can expand (i.e. state/node is non-terminal)\n",
    "            m = random.choice(node.untriedMoves) \n",
    "            state.DoMove(m)\n",
    "            node = node.AddChild(m, state)  # add child and descend tree\n",
    "\n",
    "        # Rollout - this can often be made orders of magnitude quicker using a state.GetRandomMove() function\n",
    "        while state.GetMoves() != []: # while state is non-terminal\n",
    "            #state.DoMove(random.choice(state.GetMoves()))            \n",
    "            model_dt = pickle.load(open(\"dt10.pickle\",\"rb\"))\n",
    "            np_array=np.asarray(state.board)\n",
    "            move=model_dt.predict(np_array.reshape(1,-1))\n",
    "            #print(move)\n",
    "            if move[0] in state.GetMoves():\n",
    "                state.DoMove(move[0])\n",
    "            else:\n",
    "                state.DoMove(random.choice(state.GetMoves()))\n",
    "            \n",
    "\n",
    "        # Backpropagate\n",
    "        while node != None: # backpropagate from the expanded node and work back to the root node\n",
    "            node.Update(state.GetResult(node.playerJustMoved)) # state is terminal. Update node with result from POV of node.playerJustMoved\n",
    "            node = node.parentNode\n",
    "\n",
    "    # Output some information about the tree - can be omitted\n",
    "    #if verbose: print(rootnode.TreeToString(0))\n",
    "    #else: print(rootnode.ChildrenToString())\n",
    "\n",
    "    return sorted(rootnode.childNodes, key = lambda c: c.visits)[-1].move # return the move that was most visited\n",
    "\n",
    "\n",
    "def UCTPlayGame():\n",
    "    \"\"\" Play a sample game between two UCT players where each player gets a different number \n",
    "        of UCT iterations (= simulations = tree nodes).\n",
    "    \"\"\"\n",
    "    num1 = 0 \n",
    "    state = OXOState() # uncomment to play OXO\n",
    "    while state.GetMoves() != []:\n",
    "        #print(str(state))\n",
    "        board=state.board\n",
    "        player=state.playerJustMoved\n",
    "        \n",
    "        if state.playerJustMoved == 1:\n",
    "            m = UCT1(rootstate=state, itermax=250, verbose=False)  # play with values for itermax and verbose = True\n",
    "        else:\n",
    "            m = UCT2(rootstate=state, itermax=250, verbose=False)\n",
    "        #print(\"Best Move: \" + str(m) + \"\\n\")\n",
    "        \n",
    "                       \n",
    "        board1 = str(board).strip('[]')\n",
    "        \n",
    "       # with open('data_10.csv','a+') as f:\n",
    "       #     f.write(str(player)+',')\n",
    "       #     f.write(board1)\n",
    "       #     f.write(','+str(m))\n",
    "       #     f.write('\\n')\n",
    "       # f.close\n",
    "        \n",
    "        \n",
    "        #with open('data_10.csv','a+') as f:\n",
    "        #    f.write(str(player)+',')\n",
    "        #    f.write(board1)\n",
    "        #    f.write(','+str(m))\n",
    "        #    f.write('\\n')\n",
    "        #f.close        \n",
    "                \n",
    "        state.DoMove(m)\n",
    "        if state.GetResult(state.playerJustMoved) != False:\n",
    "            #print(str(state))\n",
    "            break\n",
    "            \n",
    "                           \n",
    "    if state.GetResult(state.playerJustMoved) == 1.0:\n",
    "        #print(\"Player \" + str(state.playerJustMoved) + \" wins!\")\n",
    "        # The Final classifier( classifier 11 on the dataset data_csv.10)- Agent is winning\n",
    "        num1 = state.playerJustMoved\n",
    "    elif state.GetResult(state.playerJustMoved) == 0.0:\n",
    "        #print(\"Player \" + str(3 - state.playerJustMoved) + \" wins!\")\n",
    "        # The other classifiers (on datasets oxo-game to data_9)- agent is winning\n",
    "        num1 = 3 - state.playerJustMoved\n",
    "    return num1   \n",
    "\n",
    "if __name__ == \"__main__\":\n",
    "    \"\"\" Play a single game to the end using UCT for both players. \n",
    "    \"\"\"\n",
    "    mynum=0\n",
    "    pl1=0\n",
    "    pl2=0\n",
    "    draw=0\n",
    "    lst1=[]\n",
    "    for i in range(100):\n",
    "        #print('i is '+str(i))\n",
    "        mynum=UCTPlayGame()\n",
    "        if mynum==1:\n",
    "            # The Hybrid Agent has won           \n",
    "            pl1 = pl1+1\n",
    "        elif mynum==2:\n",
    "            # The MCTS agaent has won\n",
    "            pl2 = pl2+1\n",
    "        else:\n",
    "            # Its a draw\n",
    "            draw = draw+1\n",
    "            \n",
    "    print(pl1,pl2,draw)\n",
    "    \n",
    "    with open('FinalCompetition1.csv','a+') as f1:\n",
    "        f1.write(str(pl1)+',')\n",
    "        f1.write(str(pl2)+',')\n",
    "        f1.write(str(draw))\n",
    "        f1.write('\\n')\n",
    "    f1.close  \n"
   ]
  },
  {
   "cell_type": "markdown",
   "metadata": {},
   "source": [
    "\n",
    "\n",
    "# Code to generate the dataset and storing it in oxo-game.csv\n"
   ]
  },
  {
   "cell_type": "code",
   "execution_count": 33,
   "metadata": {},
   "outputs": [],
   "source": [
    "from sklearn.model_selection import train_test_split, StratifiedKFold\n",
    "from sklearn.tree import DecisionTreeClassifier\n",
    "from sklearn.model_selection import train_test_split\n",
    "from sklearn.model_selection import GridSearchCV, cross_val_score\n",
    "from sklearn import metrics\n",
    "from sklearn.metrics import accuracy_score\n",
    "import pandas as pd\n",
    "import numpy as np\n"
   ]
  },
  {
   "cell_type": "code",
   "execution_count": 34,
   "metadata": {},
   "outputs": [],
   "source": [
    "oxo_df=pd.read_csv(\"oxo-game.csv\",header=None)"
   ]
  },
  {
   "cell_type": "code",
   "execution_count": 35,
   "metadata": {},
   "outputs": [
    {
     "data": {
      "text/html": [
       "<div>\n",
       "<style scoped>\n",
       "    .dataframe tbody tr th:only-of-type {\n",
       "        vertical-align: middle;\n",
       "    }\n",
       "\n",
       "    .dataframe tbody tr th {\n",
       "        vertical-align: top;\n",
       "    }\n",
       "\n",
       "    .dataframe thead th {\n",
       "        text-align: right;\n",
       "    }\n",
       "</style>\n",
       "<table border=\"1\" class=\"dataframe\">\n",
       "  <thead>\n",
       "    <tr style=\"text-align: right;\">\n",
       "      <th></th>\n",
       "      <th>0</th>\n",
       "      <th>1</th>\n",
       "      <th>2</th>\n",
       "      <th>3</th>\n",
       "      <th>4</th>\n",
       "      <th>5</th>\n",
       "      <th>6</th>\n",
       "      <th>7</th>\n",
       "      <th>8</th>\n",
       "      <th>9</th>\n",
       "      <th>10</th>\n",
       "    </tr>\n",
       "  </thead>\n",
       "  <tbody>\n",
       "    <tr>\n",
       "      <th>0</th>\n",
       "      <td>2</td>\n",
       "      <td>0</td>\n",
       "      <td>0</td>\n",
       "      <td>0</td>\n",
       "      <td>0</td>\n",
       "      <td>0</td>\n",
       "      <td>0</td>\n",
       "      <td>0</td>\n",
       "      <td>0</td>\n",
       "      <td>0</td>\n",
       "      <td>4</td>\n",
       "    </tr>\n",
       "    <tr>\n",
       "      <th>1</th>\n",
       "      <td>1</td>\n",
       "      <td>0</td>\n",
       "      <td>0</td>\n",
       "      <td>0</td>\n",
       "      <td>0</td>\n",
       "      <td>1</td>\n",
       "      <td>0</td>\n",
       "      <td>0</td>\n",
       "      <td>0</td>\n",
       "      <td>0</td>\n",
       "      <td>0</td>\n",
       "    </tr>\n",
       "    <tr>\n",
       "      <th>2</th>\n",
       "      <td>2</td>\n",
       "      <td>2</td>\n",
       "      <td>0</td>\n",
       "      <td>0</td>\n",
       "      <td>0</td>\n",
       "      <td>1</td>\n",
       "      <td>0</td>\n",
       "      <td>0</td>\n",
       "      <td>0</td>\n",
       "      <td>0</td>\n",
       "      <td>2</td>\n",
       "    </tr>\n",
       "    <tr>\n",
       "      <th>3</th>\n",
       "      <td>1</td>\n",
       "      <td>2</td>\n",
       "      <td>0</td>\n",
       "      <td>1</td>\n",
       "      <td>0</td>\n",
       "      <td>1</td>\n",
       "      <td>0</td>\n",
       "      <td>0</td>\n",
       "      <td>0</td>\n",
       "      <td>0</td>\n",
       "      <td>6</td>\n",
       "    </tr>\n",
       "    <tr>\n",
       "      <th>4</th>\n",
       "      <td>2</td>\n",
       "      <td>2</td>\n",
       "      <td>0</td>\n",
       "      <td>1</td>\n",
       "      <td>0</td>\n",
       "      <td>1</td>\n",
       "      <td>0</td>\n",
       "      <td>2</td>\n",
       "      <td>0</td>\n",
       "      <td>0</td>\n",
       "      <td>3</td>\n",
       "    </tr>\n",
       "  </tbody>\n",
       "</table>\n",
       "</div>"
      ],
      "text/plain": [
       "   0   1   2   3   4   5   6   7   8   9   10\n",
       "0   2   0   0   0   0   0   0   0   0   0   4\n",
       "1   1   0   0   0   0   1   0   0   0   0   0\n",
       "2   2   2   0   0   0   1   0   0   0   0   2\n",
       "3   1   2   0   1   0   1   0   0   0   0   6\n",
       "4   2   2   0   1   0   1   0   2   0   0   3"
      ]
     },
     "execution_count": 35,
     "metadata": {},
     "output_type": "execute_result"
    }
   ],
   "source": [
    "oxo_df.head()"
   ]
  },
  {
   "cell_type": "code",
   "execution_count": 252,
   "metadata": {},
   "outputs": [
    {
     "data": {
      "text/plain": [
       "Int64Index([0, 1, 2, 3, 4, 5, 6, 7, 8, 9, 10], dtype='int64')"
      ]
     },
     "execution_count": 252,
     "metadata": {},
     "output_type": "execute_result"
    }
   ],
   "source": [
    "oxo_df.columns"
   ]
  },
  {
   "cell_type": "code",
   "execution_count": 36,
   "metadata": {},
   "outputs": [],
   "source": [
    "x=oxo_df.iloc[:,1:10]\n",
    "y=oxo_df.iloc[:,10]"
   ]
  },
  {
   "cell_type": "code",
   "execution_count": 254,
   "metadata": {},
   "outputs": [
    {
     "data": {
      "text/plain": [
       "(   1  2  3  4  5  6  7  8  9\n",
       " 0  0  0  0  0  0  0  0  0  0\n",
       " 1  0  0  0  0  1  0  0  0  0\n",
       " 2  2  0  0  0  1  0  0  0  0\n",
       " 3  2  0  1  0  1  0  0  0  0\n",
       " 4  2  0  1  0  1  0  2  0  0, 0    4\n",
       " 1    0\n",
       " 2    2\n",
       " 3    6\n",
       " 4    3\n",
       " Name: 10, dtype: int64)"
      ]
     },
     "execution_count": 254,
     "metadata": {},
     "output_type": "execute_result"
    }
   ],
   "source": [
    "x.head(),y.head()"
   ]
  },
  {
   "cell_type": "code",
   "execution_count": 37,
   "metadata": {},
   "outputs": [],
   "source": [
    "X_train,X_test,Y_train,Y_test=train_test_split(x, y, test_size=0.20,random_state=20,stratify=y)"
   ]
  },
  {
   "cell_type": "markdown",
   "metadata": {},
   "source": [
    "# Training a Decision tree classifier on the oxonew-game.csv dataset generated by the mcts code and storing the classifier in a pickle file dt1.pickle."
   ]
  },
  {
   "cell_type": "code",
   "execution_count": 38,
   "metadata": {},
   "outputs": [
    {
     "name": "stdout",
     "output_type": "stream",
     "text": [
      "the best results are :{'class_weight': 'balanced', 'criterion': 'entropy', 'max_depth': 9, 'presort': False}\n"
     ]
    },
    {
     "data": {
      "text/plain": [
       "0.7386363636363636"
      ]
     },
     "execution_count": 38,
     "metadata": {},
     "output_type": "execute_result"
    }
   ],
   "source": [
    "parameters_dt = {'criterion':('gini', 'entropy'),\n",
    "'max_depth':range(2, 10),\n",
    "'class_weight':('balanced', None),\n",
    "'presort':(False,True),\n",
    "}\n",
    "\n",
    "dt = DecisionTreeClassifier()\n",
    "clf_dt = GridSearchCV(dt, parameters_dt,cv = 5, scoring = 'accuracy')\n",
    "clf_dt1=clf_dt.fit(X_train, Y_train)\n",
    "def display(results):\n",
    "    print(f'the best results are :{results.best_params_}')\n",
    "display(clf_dt)\n",
    "dt_pred=clf_dt1.predict(X_test)\n",
    "accuracy_score(Y_test,dt_pred)"
   ]
  },
  {
   "cell_type": "code",
   "execution_count": 39,
   "metadata": {},
   "outputs": [
    {
     "name": "stdout",
     "output_type": "stream",
     "text": [
      "Accuracy with Pruned Decision Tree Classifier :73.86 %\n",
      "0.71\n"
     ]
    }
   ],
   "source": [
    "tree = DecisionTreeClassifier(max_depth=9,criterion='entropy',presort= False,class_weight='balanced')\n",
    "clf_dt=tree.fit(X_train, Y_train)\n",
    "dt_pred = clf_dt.predict(X_test)\n",
    "dt_pred\n",
    "accuracy_dt=round(accuracy_score(Y_test, dt_pred)*100,2)\n",
    "print(\"Accuracy with Pruned Decision Tree Classifier :\"+ str(accuracy_dt)+\" %\")\n",
    "kappa_stats=round(metrics.cohen_kappa_score(dt_pred,Y_test),2)\n",
    "print(kappa_stats)"
   ]
  },
  {
   "cell_type": "code",
   "execution_count": 40,
   "metadata": {},
   "outputs": [],
   "source": [
    "from sklearn.metrics import confusion_matrix\n",
    "from sklearn.metrics import classification_report "
   ]
  },
  {
   "cell_type": "code",
   "execution_count": 42,
   "metadata": {},
   "outputs": [],
   "source": [
    "results=confusion_matrix(Y_test, dt_pred)"
   ]
  },
  {
   "cell_type": "code",
   "execution_count": 43,
   "metadata": {},
   "outputs": [
    {
     "name": "stdout",
     "output_type": "stream",
     "text": [
      "Confusion Matrix :\n",
      "[[71  0  0  3 25  0  1  0  0]\n",
      " [ 0 59  4  0 12  2 14  7  0]\n",
      " [ 5  1 59  1  9  0 21  1  0]\n",
      " [ 0  1  3 56  6 15 12  3  1]\n",
      " [12  0  0  0 85  1  0  2  0]\n",
      " [ 1  7  0  1  2 79  1  1  4]\n",
      " [ 1  0  0  3 14  0 80  0  0]\n",
      " [ 0  5  1  0  2  0  3 85  0]\n",
      " [ 1  1  0  1  4  5  1  9 76]]\n",
      "Accuracy Score : 0.7386363636363636\n",
      "Report : \n",
      "              precision    recall  f1-score   support\n",
      "\n",
      "           0       0.78      0.71      0.74       100\n",
      "           1       0.80      0.60      0.69        98\n",
      "           2       0.88      0.61      0.72        97\n",
      "           3       0.86      0.58      0.69        97\n",
      "           4       0.53      0.85      0.66       100\n",
      "           5       0.77      0.82      0.80        96\n",
      "           6       0.60      0.82      0.69        98\n",
      "           7       0.79      0.89      0.83        96\n",
      "           8       0.94      0.78      0.85        98\n",
      "\n",
      "    accuracy                           0.74       880\n",
      "   macro avg       0.77      0.74      0.74       880\n",
      "weighted avg       0.77      0.74      0.74       880\n",
      "\n"
     ]
    }
   ],
   "source": [
    "print('Confusion Matrix :')\n",
    "print(results) \n",
    "print ('Accuracy Score :',accuracy_score(Y_test, dt_pred))\n",
    "print('Report : ')\n",
    "print(classification_report(Y_test, dt_pred))"
   ]
  },
  {
   "cell_type": "code",
   "execution_count": 264,
   "metadata": {},
   "outputs": [],
   "source": [
    "import pickle\n",
    "pickle_out = open(\"dt1.pickle\",\"wb\")\n",
    "pickle.dump(clf_dt, pickle_out)\n",
    "pickle_out.close()"
   ]
  },
  {
   "cell_type": "code",
   "execution_count": 265,
   "metadata": {},
   "outputs": [],
   "source": [
    "#pickle_in = open(\"dt1.pickle\",\"rb\")\n",
    "#example_dt1 = pickle.load(pickle_in)"
   ]
  },
  {
   "cell_type": "code",
   "execution_count": 266,
   "metadata": {
    "collapsed": true
   },
   "outputs": [
    {
     "name": "stdout",
     "output_type": "stream",
     "text": [
      "DecisionTreeClassifier(class_weight=None, criterion='entropy', max_depth=9,\n",
      "                       max_features=None, max_leaf_nodes=None,\n",
      "                       min_impurity_decrease=0.0, min_impurity_split=None,\n",
      "                       min_samples_leaf=1, min_samples_split=2,\n",
      "                       min_weight_fraction_leaf=0.0, presort=True,\n",
      "                       random_state=20, splitter='best')\n"
     ]
    }
   ],
   "source": [
    "#print(example_dt1)\n",
    "#pickle_out.close()"
   ]
  },
  {
   "cell_type": "code",
   "execution_count": 267,
   "metadata": {},
   "outputs": [
    {
     "data": {
      "text/plain": [
       "<function TextIOWrapper.close()>"
      ]
     },
     "execution_count": 267,
     "metadata": {},
     "output_type": "execute_result"
    }
   ],
   "source": [
    "with open('dt-classifier.csv','a+') as f1:\n",
    "    f1.write('dt1.pickle' +',')\n",
    "    f1.write(str(accuracy_dt)+',')\n",
    "    f1.write(str(kappa_stats))\n",
    "    f1.write('\\n')\n",
    "f1.close "
   ]
  },
  {
   "cell_type": "markdown",
   "metadata": {},
   "source": [
    "# After creating the first pickle file we need to modify the rollout function and use the decision tree classfier on dt1.pickle to find the best move and doing a random serach when unable to find. Generating the dataset data_1.csv for 100 games. we will do this for 10 games and create 10 pickle file containing the decision tree classifier and 10 dataset files."
   ]
  },
  {
   "cell_type": "code",
   "execution_count": 44,
   "metadata": {},
   "outputs": [],
   "source": [
    "dt2=pd.read_csv(\"data_1.csv\",header=None)\n",
    "x=dt2.iloc[:,1:10]\n",
    "y=dt2.iloc[:,10]"
   ]
  },
  {
   "cell_type": "code",
   "execution_count": 279,
   "metadata": {},
   "outputs": [
    {
     "data": {
      "text/plain": [
       "(   1  2  3  4  5  6  7  8  9\n",
       " 0  0  0  0  0  0  0  0  0  0\n",
       " 1  1  0  0  0  0  0  0  0  0\n",
       " 2  1  0  0  0  2  0  0  0  0\n",
       " 3  1  0  0  0  2  1  0  0  0\n",
       " 4  1  0  0  0  2  1  2  0  0, 0    0\n",
       " 1    4\n",
       " 2    5\n",
       " 3    6\n",
       " 4    2\n",
       " Name: 10, dtype: int64)"
      ]
     },
     "execution_count": 279,
     "metadata": {},
     "output_type": "execute_result"
    }
   ],
   "source": [
    "x.head(),y.head()"
   ]
  },
  {
   "cell_type": "code",
   "execution_count": 45,
   "metadata": {},
   "outputs": [],
   "source": [
    "X_train,X_test,Y_train,Y_test=train_test_split(x, y, test_size=0.20,random_state=20,stratify=y)"
   ]
  },
  {
   "cell_type": "code",
   "execution_count": 46,
   "metadata": {},
   "outputs": [
    {
     "name": "stdout",
     "output_type": "stream",
     "text": [
      "the best results are :{'class_weight': None, 'criterion': 'entropy', 'max_depth': 9, 'presort': False}\n"
     ]
    },
    {
     "name": "stderr",
     "output_type": "stream",
     "text": [
      "C:\\Users\\Dilba\\Anaconda3\\lib\\site-packages\\sklearn\\model_selection\\_search.py:814: DeprecationWarning: The default of the `iid` parameter will change from True to False in version 0.22 and will be removed in 0.24. This will change numeric results when test-set sizes are unequal.\n",
      "  DeprecationWarning)\n"
     ]
    },
    {
     "data": {
      "text/plain": [
       "0.8547486033519553"
      ]
     },
     "execution_count": 46,
     "metadata": {},
     "output_type": "execute_result"
    }
   ],
   "source": [
    "parameters_dt = {'criterion':('gini', 'entropy'),\n",
    "'max_depth':range(2,10),\n",
    "'class_weight':('balanced', None),\n",
    "'presort':(False,True),\n",
    "}\n",
    "\n",
    "dt = DecisionTreeClassifier()\n",
    "clf_dt = GridSearchCV(dt, parameters_dt,cv = 5, scoring = 'accuracy')\n",
    "clf_dt1=clf_dt.fit(X_train, Y_train)\n",
    "def display(results):\n",
    "    print(f'the best results are :{results.best_params_}')\n",
    "display(clf_dt)\n",
    "dt_pred=clf_dt1.predict(X_test)\n",
    "accuracy_score(Y_test,dt_pred)"
   ]
  },
  {
   "cell_type": "code",
   "execution_count": 47,
   "metadata": {},
   "outputs": [
    {
     "name": "stdout",
     "output_type": "stream",
     "text": [
      "Accuracy with Pruned Decision Tree Classifier :85.47 %\n",
      "0.84\n"
     ]
    }
   ],
   "source": [
    "tree = DecisionTreeClassifier(max_depth=9,criterion='entropy',presort=False,class_weight=None)\n",
    "clf_dt=tree.fit(X_train, Y_train)\n",
    "dt_pred = clf_dt.predict(X_test)\n",
    "dt_pred\n",
    "accuracy_dt=round(accuracy_score(Y_test, dt_pred)*100,2)\n",
    "print(\"Accuracy with Pruned Decision Tree Classifier :\"+ str(accuracy_dt)+\" %\")\n",
    "kappa_stats=round(metrics.cohen_kappa_score(dt_pred,Y_test),2)\n",
    "print(kappa_stats)"
   ]
  },
  {
   "cell_type": "code",
   "execution_count": 283,
   "metadata": {},
   "outputs": [],
   "source": [
    "\n",
    "pickle_out = open(\"dt2.pickle\",\"wb\")\n",
    "pickle.dump(clf_dt, pickle_out)\n",
    "pickle_out.close()"
   ]
  },
  {
   "cell_type": "code",
   "execution_count": 284,
   "metadata": {},
   "outputs": [
    {
     "data": {
      "text/plain": [
       "<function TextIOWrapper.close()>"
      ]
     },
     "execution_count": 284,
     "metadata": {},
     "output_type": "execute_result"
    }
   ],
   "source": [
    "with open('dt-classifier.csv','a+') as f1:\n",
    "    f1.write('dt2.pickle' +',')\n",
    "    f1.write(str(accuracy_dt)+',')\n",
    "    f1.write(str(kappa_stats))\n",
    "    f1.write('\\n')\n",
    "f1.close "
   ]
  },
  {
   "cell_type": "markdown",
   "metadata": {},
   "source": [
    "# Training the Decision tree classifier on the data2.csv dataset generated by the decision tree classifier2 and storing the classifier in a pickle file dt3.pickle."
   ]
  },
  {
   "cell_type": "code",
   "execution_count": 48,
   "metadata": {},
   "outputs": [],
   "source": [
    "dt3=pd.read_csv(\"data_2.csv\",header=None)\n",
    "x=dt3.iloc[:,1:10]\n",
    "y=dt3.iloc[:,10]"
   ]
  },
  {
   "cell_type": "code",
   "execution_count": 367,
   "metadata": {},
   "outputs": [],
   "source": [
    "X_train,X_test,Y_train,Y_test=train_test_split(x, y, test_size=0.20,random_state=20,stratify=y)"
   ]
  },
  {
   "cell_type": "code",
   "execution_count": 49,
   "metadata": {},
   "outputs": [
    {
     "name": "stdout",
     "output_type": "stream",
     "text": [
      "the best results are :{'class_weight': None, 'criterion': 'gini', 'max_depth': 9, 'presort': False}\n"
     ]
    },
    {
     "name": "stderr",
     "output_type": "stream",
     "text": [
      "C:\\Users\\Dilba\\Anaconda3\\lib\\site-packages\\sklearn\\model_selection\\_search.py:814: DeprecationWarning: The default of the `iid` parameter will change from True to False in version 0.22 and will be removed in 0.24. This will change numeric results when test-set sizes are unequal.\n",
      "  DeprecationWarning)\n"
     ]
    },
    {
     "data": {
      "text/plain": [
       "0.8547486033519553"
      ]
     },
     "execution_count": 49,
     "metadata": {},
     "output_type": "execute_result"
    }
   ],
   "source": [
    "parameters_dt = {'criterion':('gini', 'entropy'),\n",
    "'max_depth':range(2,10),\n",
    "'class_weight':('balanced', None),\n",
    "'presort':(False,True),\n",
    "}\n",
    "\n",
    "dt = DecisionTreeClassifier()\n",
    "clf_dt = GridSearchCV(dt, parameters_dt,cv = 5, scoring = 'accuracy')\n",
    "clf_dt1=clf_dt.fit(X_train, Y_train)\n",
    "def display(results):\n",
    "    print(f'the best results are :{results.best_params_}')\n",
    "display(clf_dt)\n",
    "dt_pred=clf_dt1.predict(X_test)\n",
    "accuracy_score(Y_test,dt_pred)"
   ]
  },
  {
   "cell_type": "code",
   "execution_count": 50,
   "metadata": {},
   "outputs": [
    {
     "name": "stdout",
     "output_type": "stream",
     "text": [
      "Accuracy with Pruned Decision Tree Classifier :85.47 %\n",
      "0.84\n"
     ]
    }
   ],
   "source": [
    "tree = DecisionTreeClassifier(max_depth=9,criterion='gini',presort= False,class_weight=None)\n",
    "clf_dt=tree.fit(X_train, Y_train)\n",
    "dt_pred = clf_dt.predict(X_test)\n",
    "dt_pred\n",
    "accuracy_dt=round(accuracy_score(Y_test, dt_pred)*100,2)\n",
    "print(\"Accuracy with Pruned Decision Tree Classifier :\"+ str(accuracy_dt)+\" %\")\n",
    "kappa_stats=round(metrics.cohen_kappa_score(dt_pred,Y_test),2)\n",
    "print(kappa_stats)"
   ]
  },
  {
   "cell_type": "code",
   "execution_count": 290,
   "metadata": {},
   "outputs": [],
   "source": [
    "\n",
    "pickle_out = open(\"dt3.pickle\",\"wb\")\n",
    "pickle.dump(clf_dt, pickle_out)\n",
    "pickle_out.close()"
   ]
  },
  {
   "cell_type": "code",
   "execution_count": 291,
   "metadata": {},
   "outputs": [
    {
     "data": {
      "text/plain": [
       "<function TextIOWrapper.close()>"
      ]
     },
     "execution_count": 291,
     "metadata": {},
     "output_type": "execute_result"
    }
   ],
   "source": [
    "with open('dt-classifier.csv','a+') as f1:\n",
    "    f1.write('dt3.pickle' +',')\n",
    "    f1.write(str(accuracy_dt)+',')\n",
    "    f1.write(str(kappa_stats))\n",
    "    f1.write('\\n')\n",
    "f1.close"
   ]
  },
  {
   "cell_type": "code",
   "execution_count": 51,
   "metadata": {},
   "outputs": [
    {
     "name": "stdout",
     "output_type": "stream",
     "text": [
      "Confusion Matrix :\n",
      "[[12  0  0  0  8  0  0  0  0]\n",
      " [ 0 18  0  2  0  0  0  0  0]\n",
      " [ 0  0 18  0  0  0  1  0  0]\n",
      " [ 0  0  4 16  0  0  0  0  0]\n",
      " [ 0  0  0  0 20  0  0  0  0]\n",
      " [ 0  0  2  3  0 15  0  0  0]\n",
      " [ 1  0  1  0  1  0 17  0  0]\n",
      " [ 0  0  0  0  0  0  0 19  1]\n",
      " [ 0  0  0  0  0  2  0  0 18]]\n",
      "Accuracy Score : 0.8547486033519553\n",
      "Report : \n",
      "              precision    recall  f1-score   support\n",
      "\n",
      "           0       0.92      0.60      0.73        20\n",
      "           1       1.00      0.90      0.95        20\n",
      "           2       0.72      0.95      0.82        19\n",
      "           3       0.76      0.80      0.78        20\n",
      "           4       0.69      1.00      0.82        20\n",
      "           5       0.88      0.75      0.81        20\n",
      "           6       0.94      0.85      0.89        20\n",
      "           7       1.00      0.95      0.97        20\n",
      "           8       0.95      0.90      0.92        20\n",
      "\n",
      "    accuracy                           0.85       179\n",
      "   macro avg       0.87      0.86      0.85       179\n",
      "weighted avg       0.88      0.85      0.85       179\n",
      "\n"
     ]
    }
   ],
   "source": [
    "results=confusion_matrix(Y_test, dt_pred)\n",
    "print('Confusion Matrix :')\n",
    "print(results) \n",
    "print ('Accuracy Score :',accuracy_score(Y_test, dt_pred))\n",
    "print('Report : ')\n",
    "print(classification_report(Y_test, dt_pred))\n",
    "\n"
   ]
  },
  {
   "cell_type": "code",
   "execution_count": 52,
   "metadata": {},
   "outputs": [],
   "source": [
    "dt9=pd.read_csv(\"data_8.csv\",header=None)\n",
    "x=dt9.iloc[:,1:10]\n",
    "y=dt9.iloc[:,10]"
   ]
  },
  {
   "cell_type": "code",
   "execution_count": 53,
   "metadata": {},
   "outputs": [
    {
     "data": {
      "text/html": [
       "<div>\n",
       "<style scoped>\n",
       "    .dataframe tbody tr th:only-of-type {\n",
       "        vertical-align: middle;\n",
       "    }\n",
       "\n",
       "    .dataframe tbody tr th {\n",
       "        vertical-align: top;\n",
       "    }\n",
       "\n",
       "    .dataframe thead th {\n",
       "        text-align: right;\n",
       "    }\n",
       "</style>\n",
       "<table border=\"1\" class=\"dataframe\">\n",
       "  <thead>\n",
       "    <tr style=\"text-align: right;\">\n",
       "      <th></th>\n",
       "      <th>1</th>\n",
       "      <th>2</th>\n",
       "      <th>3</th>\n",
       "      <th>4</th>\n",
       "      <th>5</th>\n",
       "      <th>6</th>\n",
       "      <th>7</th>\n",
       "      <th>8</th>\n",
       "      <th>9</th>\n",
       "    </tr>\n",
       "  </thead>\n",
       "  <tbody>\n",
       "    <tr>\n",
       "      <th>0</th>\n",
       "      <td>0</td>\n",
       "      <td>0</td>\n",
       "      <td>0</td>\n",
       "      <td>0</td>\n",
       "      <td>0</td>\n",
       "      <td>0</td>\n",
       "      <td>0</td>\n",
       "      <td>0</td>\n",
       "      <td>0</td>\n",
       "    </tr>\n",
       "    <tr>\n",
       "      <th>1</th>\n",
       "      <td>0</td>\n",
       "      <td>0</td>\n",
       "      <td>1</td>\n",
       "      <td>0</td>\n",
       "      <td>0</td>\n",
       "      <td>0</td>\n",
       "      <td>0</td>\n",
       "      <td>0</td>\n",
       "      <td>0</td>\n",
       "    </tr>\n",
       "    <tr>\n",
       "      <th>2</th>\n",
       "      <td>0</td>\n",
       "      <td>0</td>\n",
       "      <td>1</td>\n",
       "      <td>0</td>\n",
       "      <td>2</td>\n",
       "      <td>0</td>\n",
       "      <td>0</td>\n",
       "      <td>0</td>\n",
       "      <td>0</td>\n",
       "    </tr>\n",
       "    <tr>\n",
       "      <th>3</th>\n",
       "      <td>1</td>\n",
       "      <td>0</td>\n",
       "      <td>1</td>\n",
       "      <td>0</td>\n",
       "      <td>2</td>\n",
       "      <td>0</td>\n",
       "      <td>0</td>\n",
       "      <td>0</td>\n",
       "      <td>0</td>\n",
       "    </tr>\n",
       "    <tr>\n",
       "      <th>4</th>\n",
       "      <td>1</td>\n",
       "      <td>2</td>\n",
       "      <td>1</td>\n",
       "      <td>0</td>\n",
       "      <td>2</td>\n",
       "      <td>0</td>\n",
       "      <td>0</td>\n",
       "      <td>0</td>\n",
       "      <td>0</td>\n",
       "    </tr>\n",
       "  </tbody>\n",
       "</table>\n",
       "</div>"
      ],
      "text/plain": [
       "   1  2  3  4  5  6  7  8  9\n",
       "0  0  0  0  0  0  0  0  0  0\n",
       "1  0  0  1  0  0  0  0  0  0\n",
       "2  0  0  1  0  2  0  0  0  0\n",
       "3  1  0  1  0  2  0  0  0  0\n",
       "4  1  2  1  0  2  0  0  0  0"
      ]
     },
     "execution_count": 53,
     "metadata": {},
     "output_type": "execute_result"
    }
   ],
   "source": [
    "x.head()"
   ]
  },
  {
   "cell_type": "code",
   "execution_count": 54,
   "metadata": {},
   "outputs": [
    {
     "data": {
      "text/plain": [
       "0    2\n",
       "1    4\n",
       "2    0\n",
       "3    1\n",
       "4    7\n",
       "Name: 10, dtype: int64"
      ]
     },
     "execution_count": 54,
     "metadata": {},
     "output_type": "execute_result"
    }
   ],
   "source": [
    "\n",
    "y.head()"
   ]
  },
  {
   "cell_type": "code",
   "execution_count": 55,
   "metadata": {},
   "outputs": [],
   "source": [
    "X_train,X_test,Y_train,Y_test=train_test_split(x, y, test_size=0.20,random_state=20,stratify=y)"
   ]
  },
  {
   "cell_type": "code",
   "execution_count": 56,
   "metadata": {},
   "outputs": [
    {
     "name": "stdout",
     "output_type": "stream",
     "text": [
      "the best results are :{'class_weight': None, 'criterion': 'entropy', 'max_depth': 9, 'presort': False}\n"
     ]
    },
    {
     "name": "stderr",
     "output_type": "stream",
     "text": [
      "C:\\Users\\Dilba\\Anaconda3\\lib\\site-packages\\sklearn\\model_selection\\_search.py:814: DeprecationWarning: The default of the `iid` parameter will change from True to False in version 0.22 and will be removed in 0.24. This will change numeric results when test-set sizes are unequal.\n",
      "  DeprecationWarning)\n"
     ]
    },
    {
     "data": {
      "text/plain": [
       "0.7816091954022989"
      ]
     },
     "execution_count": 56,
     "metadata": {},
     "output_type": "execute_result"
    }
   ],
   "source": [
    "parameters_dt = {'criterion':('gini', 'entropy'),\n",
    "                 'max_depth':range(2,10),\n",
    "'class_weight':('balanced', None),\n",
    "'presort':(False,True),\n",
    "}\n",
    "\n",
    "dt = DecisionTreeClassifier()\n",
    "clf_dt = GridSearchCV(dt, parameters_dt,cv = 5, scoring = 'accuracy')\n",
    "clf_dt1=clf_dt.fit(X_train, Y_train)\n",
    "def display(results):\n",
    "    print(f'the best results are :{results.best_params_}')\n",
    "display(clf_dt)\n",
    "dt_pred=clf_dt1.predict(X_test)\n",
    "accuracy_score(Y_test,dt_pred)"
   ]
  },
  {
   "cell_type": "code",
   "execution_count": 57,
   "metadata": {},
   "outputs": [
    {
     "name": "stdout",
     "output_type": "stream",
     "text": [
      "Accuracy with Pruned Decision Tree Classifier :78.16 %\n",
      "0.75\n"
     ]
    }
   ],
   "source": [
    "tree = DecisionTreeClassifier(max_depth=9,criterion='entropy',presort= False,class_weight=None)\n",
    "clf_dt=tree.fit(X_train, Y_train)\n",
    "dt_pred = clf_dt.predict(X_test)\n",
    "dt_pred\n",
    "accuracy_dt=round(accuracy_score(Y_test, dt_pred)*100,2)\n",
    "print(\"Accuracy with Pruned Decision Tree Classifier :\"+ str(accuracy_dt)+\" %\")\n",
    "kappa_stats=round(metrics.cohen_kappa_score(dt_pred,Y_test),2)\n",
    "print(kappa_stats)"
   ]
  },
  {
   "cell_type": "code",
   "execution_count": 350,
   "metadata": {},
   "outputs": [],
   "source": [
    "pickle_out = open(\"dt9.pickle\",\"wb\")\n",
    "pickle.dump(clf_dt, pickle_out)\n",
    "pickle_out.close()"
   ]
  },
  {
   "cell_type": "code",
   "execution_count": 351,
   "metadata": {},
   "outputs": [
    {
     "data": {
      "text/plain": [
       "<function TextIOWrapper.close()>"
      ]
     },
     "execution_count": 351,
     "metadata": {},
     "output_type": "execute_result"
    }
   ],
   "source": [
    "with open('dt-classifier.csv','a+') as f1:\n",
    "    f1.write('dt9.pickle' +',')\n",
    "    f1.write(str(accuracy_dt)+',')\n",
    "    f1.write(str(kappa_stats))\n",
    "    f1.write('\\n')\n",
    "f1.close"
   ]
  },
  {
   "cell_type": "code",
   "execution_count": 58,
   "metadata": {},
   "outputs": [
    {
     "name": "stdout",
     "output_type": "stream",
     "text": [
      "Confusion Matrix :\n",
      "[[19  0  0  0  0  0  1  0  0]\n",
      " [ 0 18  0  0  0  0  0  1  0]\n",
      " [ 0  1 10  0  0  0  8  0  0]\n",
      " [ 1  3  1 13  0  0  1  0  0]\n",
      " [ 0  0  0  0 13  0  7  0  0]\n",
      " [ 0  0  1  2  0 15  0  0  1]\n",
      " [ 0  1  0  1  0  0 17  0  0]\n",
      " [ 0  4  0  1  0  0  0 13  1]\n",
      " [ 0  1  1  0  0  0  0  0 18]]\n",
      "Accuracy Score : 0.7816091954022989\n",
      "Report : \n",
      "              precision    recall  f1-score   support\n",
      "\n",
      "           0       0.95      0.95      0.95        20\n",
      "           1       0.64      0.95      0.77        19\n",
      "           2       0.77      0.53      0.62        19\n",
      "           3       0.76      0.68      0.72        19\n",
      "           4       1.00      0.65      0.79        20\n",
      "           5       1.00      0.79      0.88        19\n",
      "           6       0.50      0.89      0.64        19\n",
      "           7       0.93      0.68      0.79        19\n",
      "           8       0.90      0.90      0.90        20\n",
      "\n",
      "    accuracy                           0.78       174\n",
      "   macro avg       0.83      0.78      0.78       174\n",
      "weighted avg       0.83      0.78      0.79       174\n",
      "\n"
     ]
    }
   ],
   "source": [
    "results=confusion_matrix(Y_test, dt_pred)\n",
    "print('Confusion Matrix :')\n",
    "print(results) \n",
    "print ('Accuracy Score :',accuracy_score(Y_test, dt_pred))\n",
    "print('Report : ')\n",
    "print(classification_report(Y_test, dt_pred))\n"
   ]
  },
  {
   "cell_type": "code",
   "execution_count": null,
   "metadata": {},
   "outputs": [],
   "source": []
  },
  {
   "cell_type": "code",
   "execution_count": 59,
   "metadata": {},
   "outputs": [],
   "source": [
    "dt11=pd.read_csv(\"data_10.csv\",header=None)\n",
    "x=dt11.iloc[:,1:10]\n",
    "y=dt11.iloc[:,10]"
   ]
  },
  {
   "cell_type": "code",
   "execution_count": 60,
   "metadata": {},
   "outputs": [
    {
     "data": {
      "text/html": [
       "<div>\n",
       "<style scoped>\n",
       "    .dataframe tbody tr th:only-of-type {\n",
       "        vertical-align: middle;\n",
       "    }\n",
       "\n",
       "    .dataframe tbody tr th {\n",
       "        vertical-align: top;\n",
       "    }\n",
       "\n",
       "    .dataframe thead th {\n",
       "        text-align: right;\n",
       "    }\n",
       "</style>\n",
       "<table border=\"1\" class=\"dataframe\">\n",
       "  <thead>\n",
       "    <tr style=\"text-align: right;\">\n",
       "      <th></th>\n",
       "      <th>1</th>\n",
       "      <th>2</th>\n",
       "      <th>3</th>\n",
       "      <th>4</th>\n",
       "      <th>5</th>\n",
       "      <th>6</th>\n",
       "      <th>7</th>\n",
       "      <th>8</th>\n",
       "      <th>9</th>\n",
       "    </tr>\n",
       "  </thead>\n",
       "  <tbody>\n",
       "    <tr>\n",
       "      <th>0</th>\n",
       "      <td>0</td>\n",
       "      <td>0</td>\n",
       "      <td>0</td>\n",
       "      <td>0</td>\n",
       "      <td>0</td>\n",
       "      <td>0</td>\n",
       "      <td>0</td>\n",
       "      <td>0</td>\n",
       "      <td>0</td>\n",
       "    </tr>\n",
       "    <tr>\n",
       "      <th>1</th>\n",
       "      <td>1</td>\n",
       "      <td>0</td>\n",
       "      <td>0</td>\n",
       "      <td>0</td>\n",
       "      <td>0</td>\n",
       "      <td>0</td>\n",
       "      <td>0</td>\n",
       "      <td>0</td>\n",
       "      <td>0</td>\n",
       "    </tr>\n",
       "    <tr>\n",
       "      <th>2</th>\n",
       "      <td>1</td>\n",
       "      <td>0</td>\n",
       "      <td>0</td>\n",
       "      <td>0</td>\n",
       "      <td>2</td>\n",
       "      <td>0</td>\n",
       "      <td>0</td>\n",
       "      <td>0</td>\n",
       "      <td>0</td>\n",
       "    </tr>\n",
       "    <tr>\n",
       "      <th>3</th>\n",
       "      <td>1</td>\n",
       "      <td>1</td>\n",
       "      <td>0</td>\n",
       "      <td>0</td>\n",
       "      <td>2</td>\n",
       "      <td>0</td>\n",
       "      <td>0</td>\n",
       "      <td>0</td>\n",
       "      <td>0</td>\n",
       "    </tr>\n",
       "    <tr>\n",
       "      <th>4</th>\n",
       "      <td>1</td>\n",
       "      <td>1</td>\n",
       "      <td>2</td>\n",
       "      <td>0</td>\n",
       "      <td>2</td>\n",
       "      <td>0</td>\n",
       "      <td>0</td>\n",
       "      <td>0</td>\n",
       "      <td>0</td>\n",
       "    </tr>\n",
       "  </tbody>\n",
       "</table>\n",
       "</div>"
      ],
      "text/plain": [
       "   1  2  3  4  5  6  7  8  9\n",
       "0  0  0  0  0  0  0  0  0  0\n",
       "1  1  0  0  0  0  0  0  0  0\n",
       "2  1  0  0  0  2  0  0  0  0\n",
       "3  1  1  0  0  2  0  0  0  0\n",
       "4  1  1  2  0  2  0  0  0  0"
      ]
     },
     "execution_count": 60,
     "metadata": {},
     "output_type": "execute_result"
    }
   ],
   "source": [
    "x.head()"
   ]
  },
  {
   "cell_type": "code",
   "execution_count": 61,
   "metadata": {},
   "outputs": [
    {
     "data": {
      "text/plain": [
       "0    0\n",
       "1    4\n",
       "2    1\n",
       "3    2\n",
       "4    6\n",
       "Name: 10, dtype: int64"
      ]
     },
     "execution_count": 61,
     "metadata": {},
     "output_type": "execute_result"
    }
   ],
   "source": [
    "y.head()"
   ]
  },
  {
   "cell_type": "code",
   "execution_count": 62,
   "metadata": {},
   "outputs": [],
   "source": [
    "X_train,X_test,Y_train,Y_test=train_test_split(x, y, test_size=0.20,random_state=20,stratify=y)"
   ]
  },
  {
   "cell_type": "code",
   "execution_count": 63,
   "metadata": {},
   "outputs": [
    {
     "name": "stdout",
     "output_type": "stream",
     "text": [
      "the best results are :{'class_weight': 'balanced', 'criterion': 'entropy', 'max_depth': 9, 'presort': True}\n"
     ]
    },
    {
     "name": "stderr",
     "output_type": "stream",
     "text": [
      "C:\\Users\\Dilba\\Anaconda3\\lib\\site-packages\\sklearn\\model_selection\\_search.py:814: DeprecationWarning: The default of the `iid` parameter will change from True to False in version 0.22 and will be removed in 0.24. This will change numeric results when test-set sizes are unequal.\n",
      "  DeprecationWarning)\n"
     ]
    },
    {
     "data": {
      "text/plain": [
       "0.7687861271676301"
      ]
     },
     "execution_count": 63,
     "metadata": {},
     "output_type": "execute_result"
    }
   ],
   "source": [
    "parameters_dt = {'criterion':('gini', 'entropy'),\n",
    "'max_depth':range(2,10),\n",
    "'class_weight':('balanced', None),\n",
    "'presort':(False,True),\n",
    "}\n",
    "\n",
    "dt = DecisionTreeClassifier()\n",
    "clf_dt = GridSearchCV(dt, parameters_dt,cv = 5, scoring = 'accuracy')\n",
    "clf_dt1=clf_dt.fit(X_train, Y_train)\n",
    "def display(results):\n",
    "    print(f'the best results are :{results.best_params_}')\n",
    "display(clf_dt)\n",
    "dt_pred=clf_dt1.predict(X_test)\n",
    "accuracy_score(Y_test,dt_pred)"
   ]
  },
  {
   "cell_type": "code",
   "execution_count": 64,
   "metadata": {},
   "outputs": [
    {
     "name": "stdout",
     "output_type": "stream",
     "text": [
      "Accuracy with Pruned Decision Tree Classifier :76.3 %\n",
      "0.73\n"
     ]
    }
   ],
   "source": [
    "tree = DecisionTreeClassifier(max_depth=9,criterion='entropy',presort= True,class_weight='balanced', random_state=20)\n",
    "clf_dt=tree.fit(X_train, Y_train)\n",
    "dt_pred = clf_dt.predict(X_test)\n",
    "dt_pred\n",
    "accuracy_dt=round(accuracy_score(Y_test, dt_pred)*100,2)\n",
    "print(\"Accuracy with Pruned Decision Tree Classifier :\"+ str(accuracy_dt)+\" %\")\n",
    "kappa_stats=round(metrics.cohen_kappa_score(dt_pred,Y_test),2)\n",
    "print(kappa_stats)"
   ]
  },
  {
   "cell_type": "code",
   "execution_count": 362,
   "metadata": {},
   "outputs": [],
   "source": [
    "import pickle\n",
    "\n",
    "pickle_out = open(\"dt11.pickle\",\"wb\")\n",
    "pickle.dump(clf_dt, pickle_out)\n",
    "pickle_out.close()"
   ]
  },
  {
   "cell_type": "code",
   "execution_count": 363,
   "metadata": {},
   "outputs": [
    {
     "data": {
      "text/plain": [
       "<function TextIOWrapper.close()>"
      ]
     },
     "execution_count": 363,
     "metadata": {},
     "output_type": "execute_result"
    }
   ],
   "source": [
    "with open('dt-classifier.csv','a+') as f1:\n",
    "    f1.write('dt11.pickle' +',')\n",
    "    f1.write(str(accuracy_dt)+',')\n",
    "    f1.write(str(kappa_stats))\n",
    "    f1.write('\\n')\n",
    "f1.close"
   ]
  },
  {
   "cell_type": "code",
   "execution_count": 65,
   "metadata": {},
   "outputs": [
    {
     "name": "stdout",
     "output_type": "stream",
     "text": [
      "Confusion Matrix :\n",
      "[[15  0  3  0  1  0  0  0  1]\n",
      " [ 1 16  2  0  0  1  0  0  0]\n",
      " [ 0  0 19  0  0  0  0  0  0]\n",
      " [ 0  0  4 10  0  2  2  2  0]\n",
      " [ 0  0  8  0 12  0  0  0  0]\n",
      " [ 0  1  0  1  0 11  0  0  5]\n",
      " [ 0  0  3  0  0  2 13  0  0]\n",
      " [ 0  1  0  0  0  0  0 17  0]\n",
      " [ 0  0  0  0  0  1  0  0 19]]\n",
      "Accuracy Score : 0.7630057803468208\n",
      "Report : \n",
      "              precision    recall  f1-score   support\n",
      "\n",
      "           0       0.94      0.75      0.83        20\n",
      "           1       0.89      0.80      0.84        20\n",
      "           2       0.49      1.00      0.66        19\n",
      "           3       0.91      0.50      0.65        20\n",
      "           4       0.92      0.60      0.73        20\n",
      "           5       0.65      0.61      0.63        18\n",
      "           6       0.87      0.72      0.79        18\n",
      "           7       0.89      0.94      0.92        18\n",
      "           8       0.76      0.95      0.84        20\n",
      "\n",
      "    accuracy                           0.76       173\n",
      "   macro avg       0.81      0.76      0.76       173\n",
      "weighted avg       0.81      0.76      0.76       173\n",
      "\n"
     ]
    }
   ],
   "source": [
    "results=confusion_matrix(Y_test, dt_pred)\n",
    "print('Confusion Matrix :')\n",
    "print(results) \n",
    "print ('Accuracy Score :',accuracy_score(Y_test, dt_pred))\n",
    "print('Report : ')\n",
    "print(classification_report(Y_test, dt_pred))\n"
   ]
  },
  {
   "cell_type": "markdown",
   "metadata": {},
   "source": [
    "# Playing the competition between the two  players in two different classifiers  and comparing all the previous games  of that classifier with  the recent ones ...... classifier 11 with classifier 1 , 11 with 2, 11 with  3....................... 9,10 and so on."
   ]
  },
  {
   "cell_type": "code",
   "execution_count": null,
   "metadata": {},
   "outputs": [],
   "source": [
    "def UCT1(rootstate, itermax, verbose = False):\n",
    "    \"\"\" Conduct a UCT search for itermax iterations starting from rootstate.\n",
    "        Return the best move from the rootstate.\n",
    "        Assumes 2 alternating players (player 1 starts), with game results in the range [0.0, 1.0].\"\"\"\n",
    "\n",
    "    rootnode = Node(state = rootstate)\n",
    "\n",
    "    for i in range(itermax):\n",
    "        node = rootnode\n",
    "        state = rootstate.Clone()\n",
    "\n",
    "        # Select\n",
    "        while node.untriedMoves == [] and node.childNodes != []: # node is fully expanded and non-terminal\n",
    "            node = node.UCTSelectChild()\n",
    "            state.DoMove(node.move)\n",
    "\n",
    "        # Expand\n",
    "        if node.untriedMoves != []:  # if we can expand (i.e. state/node is non-terminal)\n",
    "            m = random.choice(node.untriedMoves) \n",
    "            state.DoMove(m)\n",
    "            node = node.AddChild(m, state)  # add child and descend tree\n",
    "\n",
    "        # Rollout - this can often be made orders of magnitude quicker using a state.GetRandomMove() function\n",
    "        while state.GetMoves() != []: # while state is non-terminal\n",
    "            #state.DoMove(random.choice(state.GetMoves()))            \n",
    "            model_dt = pickle.load(open(\"dt11.pickle\",\"rb\"))\n",
    "            np_array=np.asarray(state.board)\n",
    "            move=model_dt.predict(np_array.reshape(1,-1))\n",
    "            #print(move)\n",
    "            if move[0] in state.GetMoves():\n",
    "                state.DoMove(move[0])\n",
    "            else:\n",
    "                state.DoMove(random.choice(state.GetMoves()))\n",
    "            \n",
    "\n",
    "        # Backpropagate\n",
    "        while node != None: # backpropagate from the expanded node and work back to the root node\n",
    "            node.Update(state.GetResult(node.playerJustMoved)) # state is terminal. Update node with result from POV of node.playerJustMoved\n",
    "            node = node.parentNode\n",
    "\n",
    "    # Output some information about the tree - can be omitted\n",
    "    #if verbose: print(rootnode.TreeToString(0))\n",
    "    #else: print(rootnode.ChildrenToString())\n",
    "\n",
    "    return sorted(rootnode.childNodes, key = lambda c: c.visits)[-1].move # return the move that was most visited\n",
    "\n",
    "#___________________-------__________________________________________________________________________________________\n",
    "\n",
    "def UCT2(rootstate, itermax, verbose = False):\n",
    "    \"\"\" Conduct a UCT search for itermax iterations starting from rootstate.\n",
    "        Return the best move from the rootstate.\n",
    "        Assumes 2 alternating players (player 1 starts), with game results in the range [0.0, 1.0].\"\"\"\n",
    "\n",
    "    rootnode = Node(state = rootstate)\n",
    "\n",
    "    for i in range(itermax):\n",
    "        node = rootnode\n",
    "        state = rootstate.Clone()\n",
    "\n",
    "        # Select\n",
    "        while node.untriedMoves == [] and node.childNodes != []: # node is fully expanded and non-terminal\n",
    "            node = node.UCTSelectChild()\n",
    "            state.DoMove(node.move)\n",
    "\n",
    "        # Expand\n",
    "        if node.untriedMoves != []:  # if we can expand (i.e. state/node is non-terminal)\n",
    "            m = random.choice(node.untriedMoves) \n",
    "            state.DoMove(m)\n",
    "            node = node.AddChild(m, state)  # add child and descend tree\n",
    "\n",
    "        # Rollout - this can often be made orders of magnitude quicker using a state.GetRandomMove() function\n",
    "        while state.GetMoves() != []: # while state is non-terminal\n",
    "            #state.DoMove(random.choice(state.GetMoves()))            \n",
    "            model_dt = pickle.load(open(\"dt1.pickle\",\"rb\"))\n",
    "            np_array=np.asarray(state.board)\n",
    "            move=model_dt.predict(np_array.reshape(1,-1))\n",
    "            #print(move)\n",
    "            if move[0] in state.GetMoves():\n",
    "                state.DoMove(move[0])\n",
    "            else:\n",
    "                state.DoMove(random.choice(state.GetMoves()))\n",
    "            \n",
    "\n",
    "        # Backpropagate\n",
    "        while node != None: # backpropagate from the expanded node and work back to the root node\n",
    "            node.Update(state.GetResult(node.playerJustMoved)) # state is terminal. Update node with result from POV of node.playerJustMoved\n",
    "            node = node.parentNode\n",
    "\n",
    "    # Output some information about the tree - can be omitted\n",
    "    #if verbose: print(rootnode.TreeToString(0))\n",
    "    #else: print(rootnode.ChildrenToString())\n",
    "\n",
    "    return sorted(rootnode.childNodes, key = lambda c: c.visits)[-1].move # return the move that was most visited\n"
   ]
  },
  {
   "cell_type": "code",
   "execution_count": null,
   "metadata": {},
   "outputs": [],
   "source": []
  },
  {
   "cell_type": "code",
   "execution_count": null,
   "metadata": {},
   "outputs": [],
   "source": []
  },
  {
   "cell_type": "code",
   "execution_count": null,
   "metadata": {},
   "outputs": [],
   "source": []
  }
 ],
 "metadata": {
  "kernelspec": {
   "display_name": "Python 3",
   "language": "python",
   "name": "python3"
  },
  "language_info": {
   "codemirror_mode": {
    "name": "ipython",
    "version": 3
   },
   "file_extension": ".py",
   "mimetype": "text/x-python",
   "name": "python",
   "nbconvert_exporter": "python",
   "pygments_lexer": "ipython3",
   "version": "3.7.4"
  }
 },
 "nbformat": 4,
 "nbformat_minor": 2
}
